{
 "cells": [
  {
   "cell_type": "markdown",
   "id": "31dceb98-047b-4e6b-8932-ad4e50c9ee0d",
   "metadata": {},
   "source": [
    "# FPS-URB-RCC STAGE-0 WRF sensitivity experiment design\n",
    "\n",
    "The simulation of this experiment are collected in [FPS-URB-RCC_STAGE-0_WRF_experiment_design.yaml](./FPS-URB-RCC_STAGE-0_WRF_experiment_design.yaml)."
   ]
  },
  {
   "cell_type": "code",
   "execution_count": 1,
   "id": "f19543a0-99a3-4fe1-8c0c-0513d28628b5",
   "metadata": {
    "tags": []
   },
   "outputs": [],
   "source": [
    "import networkx as nx\n",
    "import matplotlib.pyplot as plt\n",
    "import yaml\n",
    "import warnings\n",
    "from matplotlib.patches import Patch\n",
    "warnings.simplefilter('ignore')"
   ]
  },
  {
   "cell_type": "markdown",
   "id": "2e216e0a-c5fd-46c4-b7ef-d7abb3a66c36",
   "metadata": {},
   "source": [
    "## Directed graph"
   ]
  },
  {
   "cell_type": "code",
   "execution_count": 2,
   "id": "a5e25287-a534-46fd-a046-facdd39d3d88",
   "metadata": {
    "tags": []
   },
   "outputs": [],
   "source": [
    "# Generate color per insitution\n",
    "def generate_color_map(institutions):\n",
    "    \"\"\"Generate a color map where each institution gets a unique color.\"\"\"\n",
    "    institution_colors = {}\n",
    "    colors = plt.cm.get_cmap('tab20', len(institutions))  # Use a colormap with 20 distinct colors\n",
    "    for idx, institution in enumerate(institutions):\n",
    "        institution_colors[institution] = colors(idx)  # Assign a unique color per institution\n",
    "    return institution_colors\n",
    "\n",
    "# Plot diagram\n",
    "def plot_graph(simul_data):\n",
    "    color_map = []\n",
    "    node_border_colors = []  # Colors of polygons\n",
    "    node_border_widths = []  # Thickness of the node borders\n",
    "    institution_map = {}\n",
    "    \n",
    "    G = nx.DiGraph()    \n",
    "    \n",
    "    # Collect unique institution_ids\n",
    "    institutions = set([node['institution_id'] for node in simul_data['simulations']])\n",
    "    \n",
    "    # Generate a unique color per institution_id\n",
    "    institution_colors = generate_color_map(institutions)\n",
    "    \n",
    "    for node in simul_data['simulations']:\n",
    "        parent_id = node.get('parent_id')\n",
    "        status = node.get('status')\n",
    "        label = f\"{node['simulation_id']}\\n({node['institution_id']})\"\n",
    "        G.add_node(node['simulation_id'], label=label)  \n",
    "        \n",
    "        # Map node to institution\n",
    "        institution_map[node['simulation_id']] = node['institution_id']  \n",
    "\n",
    "        if parent_id is not None:\n",
    "            G.add_edge(parent_id, node['simulation_id'])\n",
    "                     \n",
    "    # Positioning nodes\n",
    "    pos = nx.shell_layout(G, nlist=[\n",
    "        [node['simulation_id'] for node in simul_data['simulations'] if \"CTRL\" in node['simulation_id']],  # CTRL nodes\n",
    "        [node['simulation_id'] for node in simul_data['simulations'] if \"CTRL\" not in node['simulation_id']]  # Other nodes\n",
    "    ])\n",
    "\n",
    "    # Define labels for the graph\n",
    "    labels = {k: v['label'] for k, v in G.nodes.items()}\n",
    "    \n",
    "    # Plot\n",
    "    plt.figure(figsize=(15, 15))    \n",
    "    for node in G:\n",
    "        institution = institution_map[node]\n",
    "        status = next((n['status'] for n in simul_data['simulations'] if n['simulation_id'] == node), None)\n",
    "\n",
    "        # Status-based edge colors\n",
    "        if status in [\"published\"]:   \n",
    "            color_map.append(institution_colors[institution])  \n",
    "            node_border_colors.append('black')  \n",
    "            node_border_widths.append(1)          \n",
    "        elif status in [\"completed\"]:\n",
    "            color_map.append('white')  \n",
    "            node_border_colors.append('blue')                                        \n",
    "            node_border_widths.append(3)                \n",
    "        elif status in [\"planned\"]:\n",
    "            color_map.append('white')\n",
    "            node_border_colors.append('red')\n",
    "            node_border_widths.append(3)\n",
    "        else:\n",
    "            print(f'Status of the simuation', node, 'not known, check!')  # Nodes not published or completed will be white\n",
    "            exit()\n",
    "     \n",
    "\n",
    "    # Set different node sizes for 'CTRL' simulations\n",
    "    node_sizes = [9000 if \"CTRL\" in node else 6000 for node in G.nodes()]\n",
    "    \n",
    "    # Draw the nodes\n",
    "    nx.draw_networkx_nodes(G, pos, node_size=node_sizes, node_color=color_map, node_shape='8',\n",
    "                           edgecolors=node_border_colors, linewidths=node_border_widths, cmap=plt.cm.tab20)\n",
    "\n",
    "    # Draw the labels\n",
    "    nx.draw_networkx_labels(G, pos, labels=labels)\n",
    "\n",
    "    # change colors of the arrows and plot the arrows\n",
    "    edge_colors = []\n",
    "    edge_colors=['grey' if \"CTRL\" in node else 'black' for node in G.nodes()]\n",
    "    edge_colors=edge_colors[1:len(G.nodes)]   \n",
    "    nx.draw_networkx_edges(\n",
    "        G, pos, arrows=True, arrowstyle='-|>', arrowsize=15, edge_color=edge_colors,\n",
    "        node_size=node_sizes, connectionstyle='arc3'\n",
    "    )\n",
    "    \n",
    "    # Create a legend\n",
    "    legend_elements = [\n",
    "        Patch(facecolor='white', edgecolor='black', label='Published'),\n",
    "        Patch(facecolor='white', edgecolor='blue', label='Completed'),\n",
    "        Patch(facecolor='white', edgecolor='red', label='Planned'),\n",
    "    ]\n",
    "\n",
    "    # Add the legend to the plot\n",
    "    plt.legend(handles=legend_elements, loc='upper left')\n",
    "\n",
    "    # Save the plot\n",
    "    plt.savefig(\"Sensitivity_array.png\")\n",
    "    #plt.show()\n",
    "    plt.close()"
   ]
  },
  {
   "cell_type": "code",
   "execution_count": 3,
   "id": "f2ed4f97-6541-4af2-b12f-56348cd8ccfd",
   "metadata": {
    "tags": []
   },
   "outputs": [],
   "source": [
    "with open('FPS-URB-RCC_STAGE-0_WRF_experiment_design.yaml', 'r') as file:\n",
    "    simul_data = yaml.safe_load(file)\n",
    "plot_graph(simul_data)"
   ]
  },
  {
   "cell_type": "markdown",
   "id": "8f6c1821-9247-43a5-8bd7-9b4d7b53c1c4",
   "metadata": {},
   "source": [
    "## Simulation table"
   ]
  },
  {
   "cell_type": "code",
   "execution_count": null,
   "id": "cfdfd375-f11b-4bec-ba8b-1e51043b4d07",
   "metadata": {
    "tags": []
   },
   "outputs": [],
   "source": [
    "import pandas as pd\n",
    "df = pd.DataFrame()\n",
    "for sim in simul_data['simulations']:\n",
    "    df = pd.concat([df, pd.DataFrame([sim])], ignore_index=True)\n",
    "df.set_index(\"simulation_id\", inplace=True)\n",
    "df['description'] = df['description'].str.strip()\n",
    "df = df[[\"parent_id\", \"simulation\", \"institution_id\", \"parameters\", \"description\", \"status\"]]\n",
    "df.to_csv(\"FPS-URB-RCC_STAGE-0_WRF_experiment_design.csv\", index=False)"
   ]
  },
  {
   "cell_type": "markdown",
   "id": "cbce9611-5968-4963-bbfb-f64465b368e4",
   "metadata": {},
   "source": [
    "And for the standard FPS-URB-RCC spreadsheet table:"
   ]
  },
  {
   "cell_type": "code",
   "execution_count": null,
   "id": "a9f2ab9f-082a-4573-83e9-df5c23519bef",
   "metadata": {},
   "outputs": [],
   "source": [
    "df2 = df.assign(\n",
    "  source_id = [f'WRF451R-{x[0]}' for x in df.index.str.split('_')],\n",
    "  version_realization = [f'v1-fpsurbrcc-s0{\"r1\" if len(x)==1 else x[1]}' for x in df.index.str.split('_')]\n",
    ")\n",
    "df2 = df2.reset_index()[['source_id','version_realization','institution_id', 'status', 'description']]\n",
    "df2.to_csv(\"FPS-URB-RCC_STAGE-0_WRF_experiment_list.csv\", index=False)"
   ]
  }
 ],
 "metadata": {
  "kernelspec": {
   "display_name": "Python 3 (ipykernel)",
   "language": "python",
   "name": "python3"
  },
  "language_info": {
   "codemirror_mode": {
    "name": "ipython",
    "version": 3
   },
   "file_extension": ".py",
   "mimetype": "text/x-python",
   "name": "python",
   "nbconvert_exporter": "python",
   "pygments_lexer": "ipython3",
   "version": "3.10.14"
  }
 },
 "nbformat": 4,
 "nbformat_minor": 5
}
